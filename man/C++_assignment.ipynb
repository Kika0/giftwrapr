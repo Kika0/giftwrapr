{
 "cells": [
  {
   "cell_type": "markdown",
   "id": "950b94d7",
   "metadata": {},
   "source": [
    "# C++ Assignment"
   ]
  },
  {
   "cell_type": "markdown",
   "id": "a4ed965e",
   "metadata": {},
   "source": [
    "## Part 1) - Examine the code"
   ]
  },
  {
   "cell_type": "code",
   "execution_count": 1,
   "id": "6f4360d2",
   "metadata": {},
   "outputs": [
    {
     "data": {
      "text/plain": []
     },
     "execution_count": 1,
     "metadata": {},
     "output_type": "execute_result"
    }
   ],
   "source": [
    "#include <iostream>"
   ]
  },
  {
   "cell_type": "code",
   "execution_count": 2,
   "id": "7ba70ad6",
   "metadata": {},
   "outputs": [
    {
     "data": {
      "text/plain": []
     },
     "execution_count": 2,
     "metadata": {},
     "output_type": "execute_result"
    }
   ],
   "source": [
    "struct Point\n",
    "{\n",
    "    double x;\n",
    "    double y;\n",
    "    Point(double _x = 0.0, double _y = 0.0)\n",
    "    {\n",
    "        x = _x;\n",
    "        y = _y;   \n",
    "    }\n",
    "    Point operator-(Point p)\n",
    "    {\n",
    "       return Point(x - p.x,y - p.y);\n",
    "    }\n",
    "};\n",
    "\n",
    "struct Line_Segment\n",
    "{\n",
    "    Point a;\n",
    "    Point b;\n",
    "    Line_Segment(Point _a, Point _b)\n",
    "    {\n",
    "        a = _a;\n",
    "        b = _b;\n",
    "    }\n",
    "    double anon(Line_Segment other)\n",
    "    {\n",
    "        Point c = b - a;\n",
    "        Point d = other.b - other.a;\n",
    "        return c.x * d.y - d.x*c.y;\n",
    "    }\n",
    "};"
   ]
  },
  {
   "cell_type": "markdown",
   "id": "670bcd10",
   "metadata": {},
   "source": [
    "Point structure returns a difference between two points."
   ]
  },
  {
   "cell_type": "code",
   "execution_count": 3,
   "id": "cc810b0d",
   "metadata": {},
   "outputs": [
    {
     "name": "stdout",
     "output_type": "stream",
     "text": [
      "-2 -2\n"
     ]
    },
    {
     "data": {
      "text/plain": [
       "(std::basic_ostream<char, std::char_traits<char> >::__ostream_type &) @0x7f533edfd540\n"
      ]
     },
     "execution_count": 3,
     "metadata": {},
     "output_type": "execute_result"
    }
   ],
   "source": [
    "Point a(1,2);\n",
    "Point b(3,4);\n",
    "Point c = a - b;\n",
    "std::cout << c.x << \" \" << c.y << std::endl;"
   ]
  },
  {
   "cell_type": "markdown",
   "id": "e8fba3e7",
   "metadata": {},
   "source": [
    "Line segment structure consists of two point structures. In the first step, the `anon` function returns two points that subtract one point from another for each line respectively. Then, the function calculates the determinant. "
   ]
  },
  {
   "cell_type": "markdown",
   "id": "cb16a004",
   "metadata": {},
   "source": [
    "There are three cases to demonstrate the determinant:\n",
    "1. anticlockwise angle between line segments 1 and 2 (anon gives positive value)\n",
    "2. line segments 1 and 2 are parallel (anon gives $0$)\n",
    "3. clockwise angle between line segments 1 and 2 (anon gives negative value)"
   ]
  },
  {
   "cell_type": "markdown",
   "id": "0a73ca79",
   "metadata": {},
   "source": [
    "Restart the kernel and load the structures."
   ]
  },
  {
   "cell_type": "code",
   "execution_count": 3,
   "id": "d30c0ca5",
   "metadata": {},
   "outputs": [
    {
     "name": "stdout",
     "output_type": "stream",
     "text": [
      "1. The value of anon given by line segments [(1,2),(3,4)] and [(2,1),(2,4)] is 6.\n"
     ]
    },
    {
     "data": {
      "text/plain": [
       "(std::basic_ostream<char, std::char_traits<char> >::__ostream_type &) @0x7f8d319fd540\n"
      ]
     },
     "execution_count": 3,
     "metadata": {},
     "output_type": "execute_result"
    }
   ],
   "source": [
    "Point a(1,2);\n",
    "Point b(3,4);\n",
    "Line_Segment l1(a,b);\n",
    "Point c(2,1);\n",
    "Point d(2,4);\n",
    "Line_Segment l2(c,d);\n",
    "double det=l1.anon(l2);\n",
    "std::cout << \"1. The value of anon given by line segments [(\" << l1.a.x << \",\" << l1.a.y <<  \"),(\" << \n",
    "   l1.b.x << \",\" << l1.b.y << \")] and [(\" << l2.a.x << \",\" << l2.a.y <<  \"),(\" << \n",
    "   l2.b.x << \",\" << l2.b.y << \")] is \"<< det << \".\" << std::endl;"
   ]
  },
  {
   "cell_type": "markdown",
   "id": "645e5699",
   "metadata": {},
   "source": [
    "restart the kernel and load the structures"
   ]
  },
  {
   "cell_type": "code",
   "execution_count": 3,
   "id": "f1a53aa2",
   "metadata": {},
   "outputs": [
    {
     "name": "stdout",
     "output_type": "stream",
     "text": [
      "2. The value of anon given by line segments [(1,2),(3,4)] and [(-1,-2),(-3,-4)] is 0.\n"
     ]
    },
    {
     "data": {
      "text/plain": [
       "(std::basic_ostream<char, std::char_traits<char> >::__ostream_type &) @0x7feaae5fd540\n"
      ]
     },
     "execution_count": 3,
     "metadata": {},
     "output_type": "execute_result"
    }
   ],
   "source": [
    "Point a(1,2);\n",
    "Point b(3,4);\n",
    "Line_Segment l1(a,b);\n",
    "Point c(-1,-2);\n",
    "Point d(-3,-4);\n",
    "Line_Segment l2(c,d);\n",
    "double det=l1.anon(l2);\n",
    "std::cout << \"2. The value of anon given by line segments [(\" << l1.a.x << \",\" << l1.a.y <<  \"),(\" << \n",
    "   l1.b.x << \",\" << l1.b.y << \")] and [(\" << l2.a.x << \",\" << l2.a.y <<  \"),(\" << \n",
    "   l2.b.x << \",\" << l2.b.y << \")] is \"<< det << \".\" << std::endl;"
   ]
  },
  {
   "cell_type": "markdown",
   "id": "5b557680",
   "metadata": {},
   "source": [
    "restart the kernel and load the structures"
   ]
  },
  {
   "cell_type": "code",
   "execution_count": 3,
   "id": "af2e673b",
   "metadata": {},
   "outputs": [
    {
     "name": "stdout",
     "output_type": "stream",
     "text": [
      "3. The value of anon given by line segments [(1,2),(3,4)] and [(1,4),(3,2)] is -8.\n"
     ]
    },
    {
     "data": {
      "text/plain": [
       "(std::basic_ostream<char, std::char_traits<char> >::__ostream_type &) @0x7f763b5fd540\n"
      ]
     },
     "execution_count": 3,
     "metadata": {},
     "output_type": "execute_result"
    }
   ],
   "source": [
    "Point a(1,2);\n",
    "Point b(3,4);\n",
    "Line_Segment l1(a,b);\n",
    "Point c(1,4);\n",
    "Point d(3,2);\n",
    "Line_Segment l2(c,d);\n",
    "double det=l1.anon(l2);\n",
    "std::cout << \"3. The value of anon given by line segments [(\" << l1.a.x << \",\" << l1.a.y <<  \"),(\" << \n",
    "   l1.b.x << \",\" << l1.b.y << \")] and [(\" << l2.a.x << \",\" << l2.a.y <<  \"),(\" << \n",
    "   l2.b.x << \",\" << l2.b.y << \")] is \"<< det << \".\" << std::endl;"
   ]
  },
  {
   "cell_type": "markdown",
   "id": "1750d70a",
   "metadata": {},
   "source": [
    "## Part 2: algorithm with True/False output of line segment intersection"
   ]
  },
  {
   "cell_type": "markdown",
   "id": "7cc4f3b1",
   "metadata": {},
   "source": [
    "Line segment is defined by two different points in a plane. The algorithm does not ask for the type of intersection and is required to give `True/False` value. However, we consider different types of intersection to cover all possible cases."
   ]
  },
  {
   "cell_type": "markdown",
   "id": "4fed53de",
   "metadata": {},
   "source": [
    "<img src=\"p2.jpg\" alt=\"Alternative text\" />"
   ]
  },
  {
   "cell_type": "markdown",
   "id": "eec368a2",
   "metadata": {},
   "source": [
    "The general case of the algorithm, that is two non-parallel line segments that either do not intersect or intersect at a point inside the open interval given by the lines (one line segment 'touching' the other is not permitted under this case). This is sufficient when the points are randomly generated and the likelihood of special point positions is close to $0$. However, to ensure the robustness of the algorithm, special cases need to be considered.\n",
    "\n",
    "The first case is collinearity of the four points. In this case, the lines do not intersect if minimum value of $x$ coordinate of points $A$ and $B$ is greater than the maximum value of $x$ coordinate of points $C$ and $D$ or vice versa (one line segment is either *above* or *below* the other one). If the collinearity of the line segments is horizontal or vertical then the statement is true for only one of the coordinates since the other coordinate is constant. Therefore, *or* statement with $x$ and $y$ coordinates is key to cover all cases. \n",
    "\n",
    "The second case is when one of the points is collinear with the other line segment. The conditions in this case are similar to the ones above to define situation of no intersection.\n",
    "\n",
    "The third case is applicable to all other pairs of line segments. The idea is simply that for line segments that intersect it holds that if we construct a line $AB$ then it bisects the plane s.t $C$ and $D$ lie on different half-planes and the same holds for the other line."
   ]
  },
  {
   "cell_type": "markdown",
   "id": "d49ef60c",
   "metadata": {},
   "source": [
    "## Part 3: Jarvis march algorithm"
   ]
  },
  {
   "cell_type": "markdown",
   "id": "322544ca",
   "metadata": {},
   "source": [
    "Restart the kernel"
   ]
  },
  {
   "cell_type": "code",
   "execution_count": 1,
   "id": "bbd7acd1",
   "metadata": {
    "scrolled": true
   },
   "outputs": [
    {
     "data": {
      "text/plain": []
     },
     "execution_count": 1,
     "metadata": {},
     "output_type": "execute_result"
    }
   ],
   "source": [
    "#include <iostream>\n",
    "#include <vector>\n",
    "#include <algorithm>\n",
    "#include <cmath>"
   ]
  },
  {
   "cell_type": "code",
   "execution_count": 2,
   "id": "c66c7ad3",
   "metadata": {},
   "outputs": [
    {
     "data": {
      "text/plain": []
     },
     "execution_count": 2,
     "metadata": {},
     "output_type": "execute_result"
    }
   ],
   "source": [
    "// create Point structure for x,y coordinates\n",
    "struct Point\n",
    "{\n",
    "    double x;\n",
    "    double y;\n",
    "    Point(double _x, double _y)\n",
    "    {\n",
    "        x=_x;\n",
    "        y=_y;\n",
    "    }\n",
    "    bool operator<(Point p)\n",
    "    {\n",
    "        if(x < p.x)\n",
    "            return true;\n",
    "        if (x == p.x && y > p.y)\n",
    "            return true;\n",
    "        return false;\n",
    "    }\n",
    "}"
   ]
  },
  {
   "cell_type": "code",
   "execution_count": 7,
   "id": "02f987fa",
   "metadata": {},
   "outputs": [
    {
     "data": {
      "text/plain": []
     },
     "execution_count": 7,
     "metadata": {},
     "output_type": "execute_result"
    }
   ],
   "source": [
    "std::vector<Point> D;"
   ]
  },
  {
   "cell_type": "code",
   "execution_count": 8,
   "id": "b2a0fac0",
   "metadata": {},
   "outputs": [
    {
     "data": {
      "text/plain": [
       "(void) @0x7f1a6e7fad00\n"
      ]
     },
     "execution_count": 8,
     "metadata": {},
     "output_type": "execute_result"
    }
   ],
   "source": [
    "D.push_back(Point(3,4));"
   ]
  },
  {
   "cell_type": "code",
   "execution_count": 9,
   "id": "779cb32b",
   "metadata": {
    "scrolled": false
   },
   "outputs": [
    {
     "data": {
      "text/plain": []
     },
     "execution_count": 9,
     "metadata": {},
     "output_type": "execute_result"
    }
   ],
   "source": [
    "std::vector<std::vector<double>> E;"
   ]
  },
  {
   "cell_type": "code",
   "execution_count": 10,
   "id": "2a99130c",
   "metadata": {},
   "outputs": [
    {
     "data": {
      "text/plain": [
       "(std::vector &) { 1.0000000, 2.0000000, 3.0000000 }\n"
      ]
     },
     "execution_count": 10,
     "metadata": {},
     "output_type": "execute_result"
    }
   ],
   "source": [
    "std::vector<double> e;\n",
    "e = {1,2,3}"
   ]
  },
  {
   "cell_type": "code",
   "execution_count": 12,
   "id": "5e07bdc6",
   "metadata": {},
   "outputs": [
    {
     "data": {
      "text/plain": [
       "(void) @0x7f1a6e7fad00\n"
      ]
     },
     "execution_count": 12,
     "metadata": {},
     "output_type": "execute_result"
    }
   ],
   "source": [
    "E.push_back(e)"
   ]
  },
  {
   "cell_type": "code",
   "execution_count": 13,
   "id": "c6252777",
   "metadata": {},
   "outputs": [
    {
     "data": {
      "text/plain": [
       "(void) @0x7f1a6e7fad00\n"
      ]
     },
     "execution_count": 13,
     "metadata": {},
     "output_type": "execute_result"
    }
   ],
   "source": [
    "E.push_back({E[1][0],2})"
   ]
  },
  {
   "cell_type": "code",
   "execution_count": 14,
   "id": "481abe16",
   "metadata": {},
   "outputs": [
    {
     "data": {
      "text/plain": [
       "(double) 1.0000000\n"
      ]
     },
     "execution_count": 14,
     "metadata": {},
     "output_type": "execute_result"
    }
   ],
   "source": [
    "E[1][0]"
   ]
  },
  {
   "cell_type": "code",
   "execution_count": 16,
   "id": "e522b702",
   "metadata": {},
   "outputs": [
    {
     "data": {
      "text/plain": [
       "(unsigned long) 3\n"
      ]
     },
     "execution_count": 16,
     "metadata": {},
     "output_type": "execute_result"
    }
   ],
   "source": [
    "E.size()"
   ]
  },
  {
   "cell_type": "code",
   "execution_count": 3,
   "id": "51dac760",
   "metadata": {
    "scrolled": false
   },
   "outputs": [
    {
     "data": {
      "text/plain": []
     },
     "execution_count": 3,
     "metadata": {},
     "output_type": "execute_result"
    }
   ],
   "source": [
    "std::vector<std::vector<double> > convex_hull(std::vector<std::vector<double> > v)\n",
    "{\n",
    "// convert to a vector of points\n",
    "std::vector<Point> p;\n",
    "for (int h=0; h < v.size(); h++)\n",
    "{\n",
    "    p.push_back(Point(v[h][0],v[h][1]));\n",
    "}\n",
    "\n",
    "// create a copy of the points input\n",
    "std::vector<Point> P;\n",
    "std::copy(p.begin(),p.end(),back_inserter(P));\n",
    "// define vectors of Points that form the convex hull\n",
    "std::vector<Point> hull;\n",
    "// find leftmost point\n",
    "std::sort (p.begin(),p.end());\n",
    "hull.push_back(p[0]);\n",
    "p.erase(p.begin());\n",
    "\n",
    "// declare all variables\n",
    "    std::vector<double> pair; // if 0, then the pair are points on the hull\n",
    "    std::vector<bool> line_less; // true when point is below the line\n",
    "    std::vector<bool> line_greater; // true when point is above the line\n",
    "    std::vector<double> dist; // calculate distance to the nearest next point in case of collinearity\n",
    "    int new_point; // index of next point on the hull\n",
    "// create a line and check inequality\n",
    "    for (int j=0; j < p.size(); j++)\n",
    "    {\n",
    "        // remove all from line_less\n",
    "        line_less.clear();\n",
    "        for (int i=0; i < P.size(); i++)\n",
    "        {\n",
    "            // check inequality for the line \n",
    "            if (hull[hull.size()-1].x-p[j].x!=0)\n",
    "            {\n",
    "                line_less.push_back(P[i].y<((hull[hull.size()-1].y-p[j].y)/(hull[hull.size()-1].x-p[j].x))*(P[i].x-p[j].x)+p[j].y -pow(10,-10)) ;\n",
    "            }\n",
    "            else\n",
    "            {\n",
    "                line_less.push_back(P[i].x<p[j].x+pow(10,-10));\n",
    "                }\n",
    "            }\n",
    "        pair.push_back(std::count(line_less.begin(), line_less.end(), true));\n",
    "        }\n",
    "    \n",
    "    // append to convex hull\n",
    "    for (int k=0; k < pair.size(); k++)\n",
    "    {\n",
    "        if (pair[k]==0)\n",
    "        {\n",
    "            // calculate Euclidean distance from (hull[hull.size()-1].x,hull[hull.size()-1].y)\n",
    "            dist.push_back(sqrt(pow(hull[hull.size()-1].x-p[k].x,2)+pow(hull[hull.size()-1].y-p[k].y,2)));\n",
    "            }\n",
    "        else\n",
    "        {\n",
    "            // very large distance\n",
    "            dist.push_back(pow(10,6));\n",
    "            }\n",
    "        }\n",
    "    new_point = std::distance(std::begin(dist), std::min_element(std::begin(dist), std::end(dist)));\n",
    "    hull.push_back(p[new_point]);\n",
    "    // remove from p\n",
    "    p.erase(p.begin()+new_point); \n",
    "    \n",
    "    // clear pair and dist to be used for the next point on the hull\n",
    "    pair.clear();\n",
    "    dist.clear();  \n",
    "    \n",
    "    while ((hull[0].x!=hull[hull.size()-1].x) or (hull[0].y!=hull[hull.size()-1].y))\n",
    "    {\n",
    "    // create a line and check inequality\n",
    "    for (int j=0; j < p.size(); j++)\n",
    "    {\n",
    "        // remove all from line_less and line_greater\n",
    "        line_less.clear();\n",
    "        line_greater.clear();\n",
    "        for (int i=0; i < P.size(); i++)\n",
    "        {\n",
    "            // check inequality for the line \n",
    "            if (hull[hull.size()-1].x-p[j].x!=0)\n",
    "            {\n",
    "                line_less.push_back(P[i].y<((hull[hull.size()-1].y-p[j].y)/(hull[hull.size()-1].x-p[j].x))*(P[i].x-p[j].x)+p[j].y -pow(10,-10)) ;\n",
    "                line_greater.push_back(P[i].y>((hull[hull.size()-1].y-p[j].y)/(hull[hull.size()-1].x-p[j].x))*(P[i].x-p[j].x)+p[j].y +pow(10,-10)) ;\n",
    "            }\n",
    "            else\n",
    "            {\n",
    "                line_less.push_back(P[i].x<p[j].x -pow(10,-10));\n",
    "                 line_greater.push_back(P[i].x>p[j].x +pow(10,-10));\n",
    "                }\n",
    "            }\n",
    "        pair.push_back(std::count(line_less.begin(), line_less.end(), true) * std::count(line_greater.begin(), line_greater.end(), true));\n",
    "        }\n",
    "        // append to convex hull\n",
    "        if (std::count(pair.begin(),pair.end(),0)!=0)\n",
    "        {\n",
    "            if (std::count(pair.begin(),pair.end(),0)>=2)\n",
    "            {\n",
    "                for (int k=0; k < pair.size(); k++)\n",
    "                {\n",
    "                    if (pair[k]==0)\n",
    "                    {\n",
    "                        // calculate Euclidean distance from (hull[hull.size()-1].x,hull[hull.size()-1].y)\n",
    "                        dist.push_back(sqrt(pow(hull[hull.size()-1].x-p[k].x,2)+pow(hull[hull.size()-1].y-p[k].y,2)));\n",
    "                    }\n",
    "                else\n",
    "                {\n",
    "                    // very large distance\n",
    "                    dist.push_back(pow(10,6));\n",
    "                    }\n",
    "                }\n",
    "                new_point = std::distance(std::begin(dist), std::min_element(std::begin(dist), std::end(dist)));\n",
    "                hull.push_back(p[new_point]);\n",
    "                // remove from p\n",
    "                p.erase(p.begin()+new_point); \n",
    "                }\n",
    "            else\n",
    "            {\n",
    "                new_point=std::distance(pair.begin(),std::find(pair.begin(),pair.end(),0));\n",
    "                hull.push_back(p[new_point]);\n",
    "                // remove from p\n",
    "                p.erase(p.begin()+new_point);\n",
    "                }\n",
    "    // clear pair and dist to be used for the next point on the hull\n",
    "    pair.clear();\n",
    "    dist.clear(); \n",
    "        } // end if (pair has at least one zero value)\n",
    "        else\n",
    "        {\n",
    "            new_point=0;\n",
    "            hull.push_back(hull[new_point]);\n",
    "            }\n",
    "                \n",
    "        } // end while loop\n",
    "    \n",
    "    // convert to a vector of vectors\n",
    "    std::vector<std::vector<double> > HULL;\n",
    "    for (int l=0; l < hull.size(); l++)\n",
    "    {\n",
    "        HULL.push_back({hull[l].x,hull[l].y});\n",
    "    }\n",
    "                \n",
    "    return HULL;\n",
    "}"
   ]
  },
  {
   "cell_type": "markdown",
   "id": "0552e74c",
   "metadata": {},
   "source": [
    "### Test on the datasets provided"
   ]
  },
  {
   "cell_type": "code",
   "execution_count": 4,
   "id": "dbd1babb",
   "metadata": {
    "scrolled": true
   },
   "outputs": [
    {
     "data": {
      "text/plain": []
     },
     "execution_count": 4,
     "metadata": {},
     "output_type": "execute_result"
    }
   ],
   "source": [
    "#include <fstream>\n",
    "#include <sstream>\n",
    "#include <string>\n",
    "#include <iostream>"
   ]
  },
  {
   "cell_type": "code",
   "execution_count": 5,
   "id": "347f5aaa",
   "metadata": {},
   "outputs": [
    {
     "data": {
      "text/plain": []
     },
     "execution_count": 5,
     "metadata": {},
     "output_type": "execute_result"
    }
   ],
   "source": [
    "template <typename T>\n",
    "T lexical_cast(const std::string& str)\n",
    "{\n",
    "    T var;\n",
    "    std::istringstream iss;\n",
    "    iss.str(str);\n",
    "    iss >> var;\n",
    "    // deal with any error bits that may have been set on the stream\n",
    "    return var;\n",
    "}\n",
    "\n",
    "template<typename data_type,\n",
    "template <typename... table_type_args> typename table_type,\n",
    "template <typename... row_type_args> typename row_type>\n",
    "table_type<row_type<data_type> > csvtable(const std::string& filename)\n",
    "{\n",
    "  table_type<row_type<data_type> > table;\n",
    "  std::ifstream infile(filename);\n",
    "  while(infile)\n",
    "    {\n",
    "      std::string s;\n",
    "      if(!getline(infile,s)) break;\n",
    "      std::istringstream ss(s);\n",
    "      row_type<data_type> row;\n",
    "      while(ss)\n",
    "      {\n",
    "         std::string s;\n",
    "         if(!getline(ss,s,',')) break;\n",
    "         row.push_back(lexical_cast<data_type>(s)); \n",
    "      }\n",
    "      table.push_back(row);\n",
    "    }\n",
    "  return table;\n",
    "}\n",
    "\n",
    "#include <list>\n",
    "#include <vector>\n",
    "\n",
    "#define readcsv csvtable<double,std::list,std::vector>"
   ]
  },
  {
   "cell_type": "markdown",
   "id": "9e096dcb",
   "metadata": {},
   "source": [
    "#### Random"
   ]
  },
  {
   "cell_type": "code",
   "execution_count": 6,
   "id": "c451f8de",
   "metadata": {
    "scrolled": false
   },
   "outputs": [
    {
     "name": "stdout",
     "output_type": "stream",
     "text": [
      "The points on the hull are (-0.716574, 1.2022),  (-0.6052, 0.957134),  (-0.432249, 0.600185),  (0.156197, 0.537196),  (0.353922, 0.654945),  (0.505824, 1.12001),  (0.358984, 1.56677),  (-0.380952, 1.45311),  (-0.545292, 1.40504) and (-0.716574, 1.2022).\n",
      "\n"
     ]
    },
    {
     "data": {
      "text/plain": [
       "(std::basic_ostream<char, std::char_traits<char> >::__ostream_type &) @0x7ff284dfd540\n"
      ]
     },
     "execution_count": 6,
     "metadata": {},
     "output_type": "execute_result"
    }
   ],
   "source": [
    "std::string filename {\"random.csv\"};\n",
    "  std::list<std::vector<double> > xy_pairs {readcsv(filename)};\n",
    "    std::vector<Point> p1;\n",
    "  for(std::vector<double>& xy_pair : xy_pairs)\n",
    "    {\n",
    "    p1.push_back(Point(xy_pair[0],xy_pair[1]));\n",
    "    }\n",
    "std::vector<Point> hull1 {convex_hull(p1)};\n",
    "   std::cout << \"The points on the hull are \"; \n",
    "    for (int i=0; i<hull1.size()-2; i++) \n",
    "    std::cout << \"(\" << hull1[i].x << \", \" << hull1[i].y << \"), \" << \" \"; \n",
    "    std::cout << \"(\" << hull1[hull1.size()-2].x << \", \" << hull1[hull1.size()-2].y << \") and (\" << hull1[hull1.size()-1].x << \", \" << hull1[hull1.size()-1].y << \").\" << std::endl; \n",
    "    std::cout << std::endl; "
   ]
  },
  {
   "cell_type": "code",
   "execution_count": 6,
   "id": "e30d01fc",
   "metadata": {},
   "outputs": [
    {
     "data": {
      "text/plain": [
       "(std::vector<std::vector<double> > &) { { -0.71657388, 1.2021970 }, { -0.60520023, 0.95713411 }, { -0.43224903, 0.60018540 }, { 0.15619686, 0.53719626 }, { 0.35392233, 0.65494527 }, { 0.50582357, 1.1200131 }, { 0.35898441, 1.5667731 }, { -0.38095175, 1.4531055 }, { -0.54529232, 1.4050365 }, { -0.71657388, 1.2021970 } }\n"
      ]
     },
     "execution_count": 6,
     "metadata": {},
     "output_type": "execute_result"
    }
   ],
   "source": [
    "std::string filename {\"random.csv\"};\n",
    "  std::list<std::vector<double> > xy_pairs {readcsv(filename)};\n",
    "    std::vector<std::vector<double> > p1;\n",
    "  for(std::vector<double>& xy_pair : xy_pairs)\n",
    "    {\n",
    "    p1.push_back({xy_pair[0],xy_pair[1]});\n",
    "    }\n",
    "std::vector<std::vector<double> > hull1 {convex_hull(p1)};\n",
    "hull1"
   ]
  },
  {
   "cell_type": "markdown",
   "id": "2298fdcc",
   "metadata": {},
   "source": [
    "#### Square"
   ]
  },
  {
   "cell_type": "code",
   "execution_count": 7,
   "id": "68a862e7",
   "metadata": {},
   "outputs": [
    {
     "name": "stdout",
     "output_type": "stream",
     "text": [
      "The points on the hull are (1, 2),  (1, 1),  (2, 1),  (2, 2),  (1.5, 2.5) and (1, 2).\n",
      "\n"
     ]
    },
    {
     "data": {
      "text/plain": [
       "(std::basic_ostream<char, std::char_traits<char> >::__ostream_type &) @0x7f0e59ffd540\n"
      ]
     },
     "execution_count": 7,
     "metadata": {},
     "output_type": "execute_result"
    }
   ],
   "source": [
    "std::string filename1 {\"square.csv\"};\n",
    "std::list<std::vector<double> > xy_pairs1 {readcsv(filename1)};\n",
    "std::vector<Point> p2;\n",
    "for(std::vector<double>& xy_pair1 : xy_pairs1)\n",
    "{\n",
    "  p2.push_back(Point(xy_pair1[0],xy_pair1[1]));\n",
    "}\n",
    "std::vector<Point> hull2 {convex_hull(p2)};\n",
    "std::cout << \"The points on the hull are \"; \n",
    "for (int i=0; i<hull2.size()-2; i++) \n",
    "  std::cout << \"(\" << hull2[i].x << \", \" << hull2[i].y << \"), \" << \" \"; \n",
    "std::cout << \"(\" << hull2[hull2.size()-2].x << \", \" << hull2[hull2.size()-2].y << \") and (\" << hull2[hull2.size()-1].x << \", \" << hull2[hull2.size()-1].y << \").\" << std::endl; \n",
    "std::cout << std::endl; "
   ]
  },
  {
   "cell_type": "markdown",
   "id": "af1ab561",
   "metadata": {},
   "source": [
    "#### Pines"
   ]
  },
  {
   "cell_type": "code",
   "execution_count": 6,
   "id": "a40de879",
   "metadata": {},
   "outputs": [
    {
     "name": "stdout",
     "output_type": "stream",
     "text": [
      "The points on the hull are (0, 0),  (6.9, 0.4),  (9.3, 0.8),  (9.4, 1),  (9.5, 2.3),  (9.5, 4.6),  (9.5, 6.2),  (9.2, 8.1),  (8.7, 8.7),  (7.5, 9.3),  (5.3, 9.8),  (0.1, 9.9) and (0, 0).\n",
      "\n"
     ]
    },
    {
     "data": {
      "text/plain": [
       "(std::basic_ostream<char, std::char_traits<char> >::__ostream_type &) @0x7f16201fd540\n"
      ]
     },
     "execution_count": 6,
     "metadata": {},
     "output_type": "execute_result"
    }
   ],
   "source": [
    "std::string filename2 {\"pines1.csv\"};\n",
    "std::list<std::vector<double> > xy_pairs2 {readcsv(filename2)};\n",
    "std::vector<Point> p3;\n",
    "for(std::vector<double>& xy_pair2 : xy_pairs2)\n",
    "{\n",
    "  p3.push_back(Point(xy_pair2[0],xy_pair2[1]));\n",
    "}\n",
    "std::vector<Point> hull3 {convex_hull(p3)};\n",
    "std::cout << \"The points on the hull are \"; \n",
    "for (int i=0; i<hull3.size()-2; i++) \n",
    "  std::cout << \"(\" << hull3[i].x << \", \" << hull3[i].y << \"), \" << \" \"; \n",
    "std::cout << \"(\" << hull3[hull3.size()-2].x << \", \" << hull3[hull3.size()-2].y << \") and (\" << hull3[hull3.size()-1].x << \", \" << hull3[hull3.size()-1].y << \").\" << std::endl; \n",
    "std::cout << std::endl; "
   ]
  },
  {
   "cell_type": "markdown",
   "id": "c5528e50",
   "metadata": {},
   "source": [
    "#### Trapezoid"
   ]
  },
  {
   "cell_type": "code",
   "execution_count": 9,
   "id": "ed741379",
   "metadata": {},
   "outputs": [
    {
     "name": "stdout",
     "output_type": "stream",
     "text": [
      "The points on the hull are (1, 1),  (2, 1),  (3, 2),  (2.5, 2.5),  (2, 2) and (1, 1).\n",
      "\n"
     ]
    },
    {
     "data": {
      "text/plain": [
       "(std::basic_ostream<char, std::char_traits<char> >::__ostream_type &) @0x7f0e59ffd540\n"
      ]
     },
     "execution_count": 9,
     "metadata": {},
     "output_type": "execute_result"
    }
   ],
   "source": [
    "std::string filename3 {\"pgram.csv\"};\n",
    "std::list<std::vector<double> > xy_pairs3 {readcsv(filename3)};\n",
    "std::vector<Point> p4;\n",
    "for(std::vector<double>& xy_pair3 : xy_pairs3)\n",
    "{\n",
    "  p4.push_back(Point(xy_pair3[0],xy_pair3[1]));\n",
    "}\n",
    "std::vector<Point> hull4 {convex_hull(p4)};\n",
    "std::cout << \"The points on the hull are \"; \n",
    "for (int i=0; i<hull4.size()-2; i++) \n",
    "  std::cout << \"(\" << hull4[i].x << \", \" << hull4[i].y << \"), \" << \" \"; \n",
    "std::cout << \"(\" << hull4[hull4.size()-2].x << \", \" << hull4[hull4.size()-2].y << \") and (\" << hull4[hull4.size()-1].x << \", \" << hull4[hull4.size()-1].y << \").\" << std::endl; \n",
    "std::cout << std::endl; "
   ]
  },
  {
   "cell_type": "markdown",
   "id": "a55f40c3",
   "metadata": {},
   "source": [
    "#### Line"
   ]
  },
  {
   "cell_type": "code",
   "execution_count": 10,
   "id": "fbce2a64",
   "metadata": {},
   "outputs": [
    {
     "name": "stdout",
     "output_type": "stream",
     "text": [
      "The points on the hull are (1, 1),  (2, 2),  (3, 3) and (1, 1).\n",
      "\n"
     ]
    },
    {
     "data": {
      "text/plain": [
       "(std::basic_ostream<char, std::char_traits<char> >::__ostream_type &) @0x7f0e59ffd540\n"
      ]
     },
     "execution_count": 10,
     "metadata": {},
     "output_type": "execute_result"
    }
   ],
   "source": [
    "std::string filename4 {\"line.csv\"};\n",
    "std::list<std::vector<double> > xy_pairs4 {readcsv(filename4)};\n",
    "std::vector<Point> p5;\n",
    "for(std::vector<double>& xy_pair4 : xy_pairs4)\n",
    "{\n",
    "  p5.push_back(Point(xy_pair4[0],xy_pair4[1]));\n",
    "}\n",
    "std::vector<Point> hull5 {convex_hull(p5)};\n",
    "std::cout << \"The points on the hull are \"; \n",
    "for (int i=0; i<hull5.size()-2; i++) \n",
    "  std::cout << \"(\" << hull5[i].x << \", \" << hull5[i].y << \"), \" << \" \"; \n",
    "std::cout << \"(\" << hull5[hull5.size()-2].x << \", \" << hull5[hull5.size()-2].y << \") and (\" << hull5[hull5.size()-1].x << \", \" << hull5[hull5.size()-1].y << \").\" << std::endl; \n",
    "std::cout << std::endl; "
   ]
  },
  {
   "cell_type": "markdown",
   "id": "19c5d3cc",
   "metadata": {},
   "source": [
    "### Comparison to Python solution"
   ]
  },
  {
   "cell_type": "markdown",
   "id": "83dda7b9",
   "metadata": {},
   "source": [
    "The code is replicable and the Jarvis march function can be run on C++17. The environment is developed by Dan Grose and can be supplied upon request listing all versions of dependent libraries, so the code can be re-run. All testing datasets are available in a commonly used csv format to ensure repeatability of the results. Since execution environment is known, the code will produce same output across different machines (reproducibility). Finally, this document documents code via inline comments, pseudo code, dataset examples and markdown description of input and output. \n",
    "\n",
    "Compared to the Python code, the C++ was derived from it and remains easy to read and perhaps more accessible, since all variables are defined a data type before they are used. The runtime is not analysed for C++ implementation, so it cannot be compared with Python, though this would be a major motivation in favour of C++ if it proved to be faster."
   ]
  },
  {
   "cell_type": "markdown",
   "id": "4465c3c8",
   "metadata": {},
   "source": [
    "## Part 4: Brute force algorithm to calculate points furthest in the plane"
   ]
  },
  {
   "cell_type": "markdown",
   "id": "4ff20525",
   "metadata": {},
   "source": [
    "<img src=\"p4.jpg\">"
   ]
  },
  {
   "cell_type": "markdown",
   "id": "00abd9e8",
   "metadata": {},
   "source": [
    "Let $Q$ points label as $X$. The algorithm takes all possible pairs of $n$ points and attaches a distance to a $n^2$ long vector (or other structure). Then, it itererates through values of distance and when it is equal to maximum distance and the corresponding point indeces are in descending order (to avoid duplication since each pair of two different points is calculated twice: once in ascending and once in descending order). The corresponding two points furthest apart are then noted (C++ code in part 5 uses vectors of line segments). In case that simpler version is desirable when only one pair of points furthest apart is sufficient, we stop the algorithm after finding the first pair."
   ]
  },
  {
   "cell_type": "markdown",
   "id": "82a61972",
   "metadata": {},
   "source": [
    "#### Computational complexity"
   ]
  },
  {
   "cell_type": "markdown",
   "id": "01616fda",
   "metadata": {},
   "source": [
    "The algorithm consists of two parts. The first part calculates the distance between each pair of $n$ points, of which there are $n^2$. Therefore, the computational complexity of the first part is $O(n^2)$. The second part iterates over each distance and the computational complexity depends on the number of pairs of points that are furthest apart. In the best case scenario, there is only one pair of points furthest apart and the if statement is true only once and has computational complexity $O(n)$ to find the corresponding points in the vector, hence the overall complexity of the algorithm remains $O(n^2)$. In the worst case scenario, there are $n-1$ pairs of points furthest apart. To illustrate, this could be a hull where a point is the centre of a sphere with a large radius, where the other $n-1$ points are on the sphere close enough so that no two of the $n-1$ points are further apart than the radius. In the worst case scenario, the if statement of complexity $O(n)$ is run $n-1$ times, so the total complexity of the algorithm still remains $O(n^2)$. Since the if statement is true only when the indeces of the pair of points are in descending order (by dummy indeces $j$ and $i$), each pair is pushed back only once to the vector of line segments, though this would only multiply the complexity by a constant $2$, so the order would remain the same."
   ]
  },
  {
   "cell_type": "markdown",
   "id": "ec23d978",
   "metadata": {},
   "source": [
    "## Part 5: Implement in C++ and better best case computational complexity discussion"
   ]
  },
  {
   "cell_type": "markdown",
   "id": "085d3555",
   "metadata": {},
   "source": [
    "Restart the kernel"
   ]
  },
  {
   "cell_type": "code",
   "execution_count": 1,
   "id": "fd90228f",
   "metadata": {
    "scrolled": false
   },
   "outputs": [
    {
     "data": {
      "text/plain": []
     },
     "execution_count": 1,
     "metadata": {},
     "output_type": "execute_result"
    }
   ],
   "source": [
    "#include <iostream>\n",
    "#include <vector>\n",
    "#include <algorithm>\n",
    "#include <cmath>"
   ]
  },
  {
   "cell_type": "markdown",
   "id": "83a05998",
   "metadata": {},
   "source": [
    "The algorithm uses `Point` structure to represent points in the hull and `Line_Segment` structure to represent a pair of points that are furthest apart. Furthermore, the algorithm iterates over the list of distances between each pair of points to find all maximum values. Therefore, if there is more than one pair of points that are furthest apart (as demonstrated in `square.csv` example), the algorithm will attach all pairs to the vector of line segments."
   ]
  },
  {
   "cell_type": "code",
   "execution_count": 2,
   "id": "fe90a5fa",
   "metadata": {
    "scrolled": true
   },
   "outputs": [
    {
     "data": {
      "text/plain": []
     },
     "execution_count": 2,
     "metadata": {},
     "output_type": "execute_result"
    }
   ],
   "source": [
    "// create Point structure for x,y coordinates\n",
    "struct Point\n",
    "{\n",
    "    double x;\n",
    "    double y;\n",
    "    Point(double _x = 0.0, double _y = 0.0)\n",
    "    {\n",
    "        x=_x;\n",
    "        y=_y;\n",
    "    };\n",
    "    Point operator-(Point p)\n",
    "    {\n",
    "       return Point(x - p.x,y - p.y);\n",
    "    }\n",
    "};\n",
    "// create Line_Segment structure for a pair of furthest points\n",
    "struct Line_Segment\n",
    "{\n",
    "    Point a;\n",
    "    Point b;\n",
    "    Line_Segment(Point _a, Point _b)\n",
    "    {\n",
    "        a = _a;\n",
    "        b = _b;\n",
    "    }\n",
    "};"
   ]
  },
  {
   "cell_type": "code",
   "execution_count": 3,
   "id": "53c418e3",
   "metadata": {},
   "outputs": [
    {
     "data": {
      "text/plain": []
     },
     "execution_count": 3,
     "metadata": {},
     "output_type": "execute_result"
    }
   ],
   "source": [
    "std::vector<Line_Segment> furthest_points(std::vector<Point> p)\n",
    "{\n",
    "std::vector<double> dist; // declare distance variable\n",
    "    for (int i=0; i < p.size(); i++)\n",
    "    {\n",
    "    for (int j=0; j < p.size(); j++)\n",
    "    {\n",
    "    // calculate euclidean distance between a pair of points\n",
    "    dist.push_back(sqrt(pow(p[i].x-p[j].x,2)+pow(p[i].y-p[j].y,2))); \n",
    "            }\n",
    "        }\n",
    "    // get the maximum value in the vector of distances\n",
    "    double max_value {*max_element(dist.begin(),dist.end())};\n",
    "    \n",
    "    // declare the index of maximum value \n",
    "    std::vector<int> max_index;\n",
    "    \n",
    "    // start with empty vector of Line_Segment\n",
    "    std::vector<Line_Segment> furthest_points_pairs;\n",
    "    \n",
    "    // return the index of maximum value in the list\n",
    "    for (int i = 0; i < dist.size(); i++)\n",
    "    {    \n",
    "      if(max_value == dist[i] && (i % p.size() > (i - (i % p.size()))/p.size()))\n",
    "      {\n",
    "        max_index.push_back(i);        \n",
    "        // push_back to furthest_points_pairs;\n",
    "        furthest_points_pairs.push_back(Line_Segment(p[max_index.back() % p.size()]\n",
    "        ,p[(max_index.back() - (max_index.back() % p.size()))/p.size()]));\n",
    "    } // end if\n",
    "  } // end for\n",
    "return furthest_points_pairs;\n",
    "}"
   ]
  },
  {
   "cell_type": "markdown",
   "id": "0501b329",
   "metadata": {},
   "source": [
    "### Produce correct output for the datasets provided"
   ]
  },
  {
   "cell_type": "code",
   "execution_count": 4,
   "id": "d9b0a81f",
   "metadata": {
    "scrolled": true
   },
   "outputs": [
    {
     "data": {
      "text/plain": []
     },
     "execution_count": 4,
     "metadata": {},
     "output_type": "execute_result"
    }
   ],
   "source": [
    "#include <fstream>\n",
    "#include <sstream>\n",
    "#include <string>"
   ]
  },
  {
   "cell_type": "code",
   "execution_count": 5,
   "id": "a591d759",
   "metadata": {},
   "outputs": [
    {
     "data": {
      "text/plain": []
     },
     "execution_count": 5,
     "metadata": {},
     "output_type": "execute_result"
    }
   ],
   "source": [
    "template <typename T>\n",
    "T lexical_cast(const std::string& str)\n",
    "{\n",
    "    T var;\n",
    "    std::istringstream iss;\n",
    "    iss.str(str);\n",
    "    iss >> var;\n",
    "    // deal with any error bits that may have been set on the stream\n",
    "    return var;\n",
    "}\n",
    "\n",
    "template<typename data_type,\n",
    "template <typename... table_type_args> typename table_type,\n",
    "template <typename... row_type_args> typename row_type>\n",
    "table_type<row_type<data_type> > csvtable(const std::string& filename)\n",
    "{\n",
    "  table_type<row_type<data_type> > table;\n",
    "  std::ifstream infile(filename);\n",
    "  while(infile)\n",
    "    {\n",
    "      std::string s;\n",
    "      if(!getline(infile,s)) break;\n",
    "      std::istringstream ss(s);\n",
    "      row_type<data_type> row;\n",
    "      while(ss)\n",
    "      {\n",
    "         std::string s;\n",
    "         if(!getline(ss,s,',')) break;\n",
    "         row.push_back(lexical_cast<data_type>(s)); \n",
    "      }\n",
    "      table.push_back(row);\n",
    "    }\n",
    "  return table;\n",
    "}\n",
    "\n",
    "#include <list>\n",
    "#include <vector>\n",
    "\n",
    "#define readcsv csvtable<double,std::list,std::vector>"
   ]
  },
  {
   "cell_type": "markdown",
   "id": "fb47673a",
   "metadata": {},
   "source": [
    "#### Random"
   ]
  },
  {
   "cell_type": "code",
   "execution_count": 6,
   "id": "b9ec1a52",
   "metadata": {
    "scrolled": true
   },
   "outputs": [
    {
     "name": "stdout",
     "output_type": "stream",
     "text": [
      "The two points furthest apart are (0.358984,1.56677) and (-0.432249,0.600185).\n"
     ]
    },
    {
     "data": {
      "text/plain": []
     },
     "execution_count": 6,
     "metadata": {},
     "output_type": "execute_result"
    }
   ],
   "source": [
    "std::string filename {\"random.csv\"};\n",
    "  std::list<std::vector<double> > xy_pairs {readcsv(filename)};\n",
    "    std::vector<Point> p1;\n",
    "  for(std::vector<double>& xy_pair : xy_pairs)\n",
    "    {\n",
    "    p1.push_back(Point(xy_pair[0],xy_pair[1]));\n",
    "    }\n",
    "std::vector<Line_Segment> furthest_points_pairs {furthest_points(p1)};\n",
    "\n",
    "if(furthest_points_pairs.size()==1)\n",
    "{\n",
    "std::cout << \"The two points furthest apart are \";\n",
    "for (int i=0;i<furthest_points_pairs.size();i++)\n",
    "std::cout << \"(\" << furthest_points_pairs[i].a.x << \",\" << furthest_points_pairs[i].a.y << \") and (\" << furthest_points_pairs[i].b.x << \",\" << furthest_points_pairs[i].b.y <<  \")\";\n",
    "std::cout << \".\" << std::endl;\n",
    "}\n",
    "else\n",
    "{\n",
    "std::cout << \"There is more than one pair of points that are furthest apart. The pairs are \";\n",
    "for (int i=0;i<furthest_points_pairs.size()-1;i++)\n",
    "std::cout << \"(\" << furthest_points_pairs[i].a.x << \",\" << furthest_points_pairs[i].a.y << \") and (\" << furthest_points_pairs[i].b.x << \",\" << furthest_points_pairs[i].b.y <<  \"),\";\n",
    "std::cout << \" and \" << \"(\" << furthest_points_pairs.back().a.x << \",\" << furthest_points_pairs.back().a.y << \") and (\" << furthest_points_pairs.back().b.x << \",\" << furthest_points_pairs.back().b.y <<  \")\" << \".\" << std::endl;\n",
    "}"
   ]
  },
  {
   "cell_type": "markdown",
   "id": "c6bca04b",
   "metadata": {},
   "source": [
    "#### Square"
   ]
  },
  {
   "cell_type": "markdown",
   "id": "8e35211c",
   "metadata": {},
   "source": [
    "Restart the kernel and load all from Part 4 up to a definition of reading csv files."
   ]
  },
  {
   "cell_type": "code",
   "execution_count": 6,
   "id": "39398cb6",
   "metadata": {
    "scrolled": true
   },
   "outputs": [
    {
     "name": "stdout",
     "output_type": "stream",
     "text": [
      "There is more than one pair of points that are furthest apart. The pairs are (1.5,2.5) and (1,1), and (1.5,2.5) and (2,1).\n"
     ]
    },
    {
     "data": {
      "text/plain": []
     },
     "execution_count": 6,
     "metadata": {},
     "output_type": "execute_result"
    }
   ],
   "source": [
    "std::string filename {\"square.csv\"};\n",
    "  std::list<std::vector<double> > xy_pairs {readcsv(filename)};\n",
    "    std::vector<Point> p1;\n",
    "  for(std::vector<double>& xy_pair : xy_pairs)\n",
    "    {\n",
    "    p1.push_back(Point(xy_pair[0],xy_pair[1]));\n",
    "    }\n",
    "std::vector<Line_Segment> furthest_points_pairs {furthest_points(p1)};\n",
    "\n",
    "if(furthest_points_pairs.size()==1)\n",
    "{\n",
    "std::cout << \"The two points furthest apart are \";\n",
    "for (int i=0;i<furthest_points_pairs.size();i++)\n",
    "std::cout << \"(\" << furthest_points_pairs[i].a.x << \",\" << furthest_points_pairs[i].a.y << \") and (\" << furthest_points_pairs[i].b.x << \",\" << furthest_points_pairs[i].b.y <<  \")\";\n",
    "std::cout << \".\" << std::endl;\n",
    "}\n",
    "else\n",
    "{\n",
    "std::cout << \"There is more than one pair of points that are furthest apart. The pairs are \";\n",
    "for (int i=0;i<furthest_points_pairs.size()-1;i++)\n",
    "std::cout << \"(\" << furthest_points_pairs[i].a.x << \",\" << furthest_points_pairs[i].a.y << \") and (\" << furthest_points_pairs[i].b.x << \",\" << furthest_points_pairs[i].b.y <<  \"),\";\n",
    "std::cout << \" and \" << \"(\" << furthest_points_pairs.back().a.x << \",\" << furthest_points_pairs.back().a.y << \") and (\" << furthest_points_pairs.back().b.x << \",\" << furthest_points_pairs.back().b.y <<  \")\" << \".\" << std::endl;\n",
    "}"
   ]
  },
  {
   "cell_type": "markdown",
   "id": "d4af9359",
   "metadata": {},
   "source": [
    "#### Pines"
   ]
  },
  {
   "cell_type": "markdown",
   "id": "5c7f7d96",
   "metadata": {},
   "source": [
    "Restart the kernel and load all from Part 4 up to a definition of reading csv files."
   ]
  },
  {
   "cell_type": "code",
   "execution_count": 6,
   "id": "0d533ff8",
   "metadata": {
    "scrolled": true
   },
   "outputs": [
    {
     "name": "stdout",
     "output_type": "stream",
     "text": [
      "The two points furthest apart are (9.3,0.8) and (0.1,9.9).\n"
     ]
    },
    {
     "data": {
      "text/plain": []
     },
     "execution_count": 6,
     "metadata": {},
     "output_type": "execute_result"
    }
   ],
   "source": [
    "std::string filename {\"pines1.csv\"}; //NOTE:dataset was corrected to exclude index column\n",
    "  std::list<std::vector<double> > xy_pairs {readcsv(filename)};\n",
    "    std::vector<Point> p1;\n",
    "  for(std::vector<double>& xy_pair : xy_pairs)\n",
    "    {\n",
    "    p1.push_back(Point(xy_pair[0],xy_pair[1]));\n",
    "    }\n",
    "std::vector<Line_Segment> furthest_points_pairs {furthest_points(p1)};\n",
    "\n",
    "if(furthest_points_pairs.size()==1)\n",
    "{\n",
    "std::cout << \"The two points furthest apart are \";\n",
    "for (int i=0;i<furthest_points_pairs.size();i++)\n",
    "std::cout << \"(\" << furthest_points_pairs[i].a.x << \",\" << furthest_points_pairs[i].a.y << \") and (\" << furthest_points_pairs[i].b.x << \",\" << furthest_points_pairs[i].b.y <<  \")\";\n",
    "std::cout << \".\" << std::endl;\n",
    "}\n",
    "else\n",
    "{\n",
    "std::cout << \"There is more than one pair of points that are furthest apart. The pairs are \";\n",
    "for (int i=0;i<furthest_points_pairs.size()-1;i++)\n",
    "std::cout << \"(\" << furthest_points_pairs[i].a.x << \",\" << furthest_points_pairs[i].a.y << \") and (\" << furthest_points_pairs[i].b.x << \",\" << furthest_points_pairs[i].b.y <<  \"),\";\n",
    "std::cout << \" and \" << \"(\" << furthest_points_pairs.back().a.x << \",\" << furthest_points_pairs.back().a.y << \") and (\" << furthest_points_pairs.back().b.x << \",\" << furthest_points_pairs.back().b.y <<  \")\" << \".\" << std::endl;\n",
    "}"
   ]
  },
  {
   "cell_type": "markdown",
   "id": "8f62a87e",
   "metadata": {},
   "source": [
    "#### Trapezoid"
   ]
  },
  {
   "cell_type": "markdown",
   "id": "f8580855",
   "metadata": {},
   "source": [
    "Restart the kernel and load all from Part 4 up to a definition of reading csv files."
   ]
  },
  {
   "cell_type": "code",
   "execution_count": 6,
   "id": "77d16fe4",
   "metadata": {
    "scrolled": true
   },
   "outputs": [
    {
     "name": "stdout",
     "output_type": "stream",
     "text": [
      "The two points furthest apart are (3,2) and (1,1).\n"
     ]
    },
    {
     "data": {
      "text/plain": []
     },
     "execution_count": 6,
     "metadata": {},
     "output_type": "execute_result"
    }
   ],
   "source": [
    "std::string filename {\"pgram.csv\"};\n",
    "  std::list<std::vector<double> > xy_pairs {readcsv(filename)};\n",
    "    std::vector<Point> p1;\n",
    "  for(std::vector<double>& xy_pair : xy_pairs)\n",
    "    {\n",
    "    p1.push_back(Point(xy_pair[0],xy_pair[1]));\n",
    "    }\n",
    "std::vector<Line_Segment> furthest_points_pairs {furthest_points(p1)};\n",
    "\n",
    "if(furthest_points_pairs.size()==1)\n",
    "{\n",
    "std::cout << \"The two points furthest apart are \";\n",
    "for (int i=0;i<furthest_points_pairs.size();i++)\n",
    "std::cout << \"(\" << furthest_points_pairs[i].a.x << \",\" << furthest_points_pairs[i].a.y << \") and (\" << furthest_points_pairs[i].b.x << \",\" << furthest_points_pairs[i].b.y <<  \")\";\n",
    "std::cout << \".\" << std::endl;\n",
    "}\n",
    "else\n",
    "{\n",
    "std::cout << \"There is more than one pair of points that are furthest apart. The pairs are \";\n",
    "for (int i=0;i<furthest_points_pairs.size()-1;i++)\n",
    "std::cout << \"(\" << furthest_points_pairs[i].a.x << \",\" << furthest_points_pairs[i].a.y << \") and (\" << furthest_points_pairs[i].b.x << \",\" << furthest_points_pairs[i].b.y <<  \"),\";\n",
    "std::cout << \" and \" << \"(\" << furthest_points_pairs.back().a.x << \",\" << furthest_points_pairs.back().a.y << \") and (\" << furthest_points_pairs.back().b.x << \",\" << furthest_points_pairs.back().b.y <<  \")\" << \".\" << std::endl;\n",
    "}"
   ]
  },
  {
   "cell_type": "markdown",
   "id": "5adcdbab",
   "metadata": {},
   "source": [
    "#### Line"
   ]
  },
  {
   "cell_type": "markdown",
   "id": "7f905c7d",
   "metadata": {},
   "source": [
    "Restart the kernel and load all from Part 4 up to a definition of reading csv files."
   ]
  },
  {
   "cell_type": "code",
   "execution_count": 6,
   "id": "badf3f76",
   "metadata": {
    "scrolled": true
   },
   "outputs": [
    {
     "name": "stdout",
     "output_type": "stream",
     "text": [
      "The two points furthest apart are (3,3) and (1,1).\n"
     ]
    },
    {
     "data": {
      "text/plain": []
     },
     "execution_count": 6,
     "metadata": {},
     "output_type": "execute_result"
    }
   ],
   "source": [
    "std::string filename {\"line.csv\"};\n",
    "  std::list<std::vector<double> > xy_pairs {readcsv(filename)};\n",
    "    std::vector<Point> p1;\n",
    "  for(std::vector<double>& xy_pair : xy_pairs)\n",
    "    {\n",
    "    p1.push_back(Point(xy_pair[0],xy_pair[1]));\n",
    "    }\n",
    "std::vector<Line_Segment> furthest_points_pairs {furthest_points(p1)};\n",
    "\n",
    "if(furthest_points_pairs.size()==1)\n",
    "{\n",
    "std::cout << \"The two points furthest apart are \";\n",
    "for (int i=0;i<furthest_points_pairs.size();i++)\n",
    "std::cout << \"(\" << furthest_points_pairs[i].a.x << \",\" << furthest_points_pairs[i].a.y << \") and (\" << furthest_points_pairs[i].b.x << \",\" << furthest_points_pairs[i].b.y <<  \")\";\n",
    "std::cout << \".\" << std::endl;\n",
    "}\n",
    "else\n",
    "{\n",
    "std::cout << \"There is more than one pair of points that are furthest apart. The pairs are \";\n",
    "for (int i=0;i<furthest_points_pairs.size()-1;i++)\n",
    "std::cout << \"(\" << furthest_points_pairs[i].a.x << \",\" << furthest_points_pairs[i].a.y << \") and (\" << furthest_points_pairs[i].b.x << \",\" << furthest_points_pairs[i].b.y <<  \"),\";\n",
    "std::cout << \" and \" << \"(\" << furthest_points_pairs.back().a.x << \",\" << furthest_points_pairs.back().a.y << \") and (\" << furthest_points_pairs.back().b.x << \",\" << furthest_points_pairs.back().b.y <<  \")\" << \".\" << std::endl;\n",
    "}"
   ]
  },
  {
   "cell_type": "markdown",
   "id": "faf96706",
   "metadata": {},
   "source": [
    "#### Circle centre and points on the circle ($n-1$ pairs of furthest apart points)"
   ]
  },
  {
   "cell_type": "markdown",
   "id": "f892b586",
   "metadata": {},
   "source": [
    "<img src=\"index.png\" class=\"left\">"
   ]
  },
  {
   "cell_type": "markdown",
   "id": "772c36df",
   "metadata": {},
   "source": [
    "Restart the kernel and load all from Part 4 up to a definition of reading csv files."
   ]
  },
  {
   "cell_type": "code",
   "execution_count": 6,
   "id": "8e8b712e",
   "metadata": {
    "scrolled": true
   },
   "outputs": [
    {
     "name": "stdout",
     "output_type": "stream",
     "text": [
      "There is more than one pair of points that are furthest apart. The pairs are (0.710612,1.22271) and (0,0),(0.116737,1.40939) and (0,0),(0.766682,1.18836) and (0,0),(0.329443,1.37531) and (0,0),(0.710612,1.22271) and (0,0),(0.116737,1.40939) and (0,0),(0.766682,1.18836) and (0,0), and (0.329443,1.37531) and (0,0).\n"
     ]
    },
    {
     "data": {
      "text/plain": []
     },
     "execution_count": 6,
     "metadata": {},
     "output_type": "execute_result"
    }
   ],
   "source": [
    "std::string filename {\"circle.csv\"};\n",
    "  std::list<std::vector<double> > xy_pairs {readcsv(filename)};\n",
    "    std::vector<Point> p1;\n",
    "  for(std::vector<double>& xy_pair : xy_pairs)\n",
    "    {\n",
    "    p1.push_back(Point(xy_pair[0],xy_pair[1]));\n",
    "    }\n",
    "std::vector<Line_Segment> furthest_points_pairs {furthest_points(p1)};\n",
    "\n",
    "if(furthest_points_pairs.size()==1)\n",
    "{\n",
    "std::cout << \"The two points furthest apart are \";\n",
    "for (int i=0;i<furthest_points_pairs.size();i++)\n",
    "std::cout << \"(\" << furthest_points_pairs[i].a.x << \",\" << furthest_points_pairs[i].a.y << \") and (\" << furthest_points_pairs[i].b.x << \",\" << furthest_points_pairs[i].b.y <<  \")\";\n",
    "std::cout << \".\" << std::endl;\n",
    "}\n",
    "else\n",
    "{\n",
    "std::cout << \"There is more than one pair of points that are furthest apart. The pairs are \";\n",
    "for (int i=0;i<furthest_points_pairs.size()-1;i++)\n",
    "std::cout << \"(\" << furthest_points_pairs[i].a.x << \",\" << furthest_points_pairs[i].a.y << \") and (\" << furthest_points_pairs[i].b.x << \",\" << furthest_points_pairs[i].b.y <<  \"),\";\n",
    "std::cout << \" and \" << \"(\" << furthest_points_pairs.back().a.x << \",\" << furthest_points_pairs.back().a.y << \") and (\" << furthest_points_pairs.back().b.x << \",\" << furthest_points_pairs.back().b.y <<  \")\" << \".\" << std::endl;\n",
    "}"
   ]
  },
  {
   "cell_type": "markdown",
   "id": "31147e9f",
   "metadata": {},
   "source": [
    "### Better best case computational complexity"
   ]
  },
  {
   "cell_type": "markdown",
   "id": "37f27ef7",
   "metadata": {},
   "source": [
    "<img src=\"p5.jpg\">"
   ]
  },
  {
   "cell_type": "markdown",
   "id": "40dc4d7d",
   "metadata": {},
   "source": [
    "Since the two points furthest apart have to be the convex hull polygon vertices, it is possible to do Jarvis march algorithm to reduce the number of possible points furthest apart. The optimal Jarvis march algorithm in two dimensions is $O(nlog(h))$ (Chan, 1996). The best possible general case is the number of points required to define a polygon, which is $3$ (a triangle). Then, the Jarvis march can be done in $O(n)$. The second step is then to find the two furthest points from a set of $3$, which is a constant time by the brute force algorithm though verifying only pairs of two different points takes the constant down from $9$ to $\\frac{n(n-1)}{2}=3$. Overall, the best case computational complexity is $O(n)+ O(1)=O(n)$."
   ]
  },
  {
   "cell_type": "markdown",
   "id": "e51baf4f",
   "metadata": {},
   "source": [
    "## Bibliography"
   ]
  },
  {
   "cell_type": "markdown",
   "id": "99f95055",
   "metadata": {},
   "source": [
    "Chan, T.M. (2016). Optimal output-sensitive convex hull algorithms in two and three dimensions. *Discrete & Computational Geometry* 16, 361–368"
   ]
  },
  {
   "cell_type": "markdown",
   "id": "fe5ca636",
   "metadata": {},
   "source": [
    "Benureau, F. and Rougier, N. (2018). Re-run, Repeat, Reproduce, Reuse, Replicate: Transforming Code into Scientific Contributions. *Frontiers in neuroinformatics*"
   ]
  }
 ],
 "metadata": {
  "kernelspec": {
   "display_name": "C++17",
   "language": "C++",
   "name": "cling-cpp17"
  },
  "language_info": {
   "codemirror_mode": "c++",
   "file_extension": ".c++",
   "mimetype": "text/x-c++src",
   "name": "c++"
  }
 },
 "nbformat": 4,
 "nbformat_minor": 5
}
